{
 "cells": [
  {
   "cell_type": "code",
   "execution_count": 31,
   "id": "d1943f9b",
   "metadata": {},
   "outputs": [],
   "source": [
    "import torch\n",
    "from torch import nn\n",
    "import torch.nn.functional as F\n",
    "\n",
    "import matplotlib.pyplot as plt\n",
    "import pandas as pd\n",
    "from tqdm import trange\n",
    "import time"
   ]
  },
  {
   "cell_type": "code",
   "execution_count": 32,
   "id": "d85f9b57",
   "metadata": {},
   "outputs": [
    {
     "name": "stdout",
     "output_type": "stream",
     "text": [
      "Using device: mps\n"
     ]
    }
   ],
   "source": [
    "if torch.cuda.is_available(): device = 'cuda'\n",
    "elif torch.backends.mps.is_available(): device = 'mps'\n",
    "else: device = 'cpu'\n",
    "print(f'Using device: {device}')\n",
    "\n",
    "torch.manual_seed(42);"
   ]
  },
  {
   "cell_type": "code",
   "execution_count": 33,
   "id": "97d2dbb9",
   "metadata": {},
   "outputs": [
    {
     "name": "stdout",
     "output_type": "stream",
     "text": [
      "number of words: 32033\n",
      "longest word: 15\n",
      "sample words: ['emma', 'olivia', 'ava', 'isabella', 'sophia', 'charlotte', 'mia', 'amelia']\n"
     ]
    }
   ],
   "source": [
    "# load names data\n",
    "words = open(\"data/names.txt\", \"r\").read().splitlines()\n",
    "words_len = len(words)\n",
    "max_len = max(len(w) for w in words)\n",
    "\n",
    "print(f'number of words: {words_len}')\n",
    "print(f'longest word: {max_len}')\n",
    "print(f'sample words: {words[:8]}')"
   ]
  },
  {
   "cell_type": "code",
   "execution_count": 34,
   "id": "7ced6539",
   "metadata": {},
   "outputs": [
    {
     "name": "stdout",
     "output_type": "stream",
     "text": [
      "{1: 'a', 2: 'b', 3: 'c', 4: 'd', 5: 'e', 6: 'f', 7: 'g', 8: 'h', 9: 'i', 10: 'j', 11: 'k', 12: 'l', 13: 'm', 14: 'n', 15: 'o', 16: 'p', 17: 'q', 18: 'r', 19: 's', 20: 't', 21: 'u', 22: 'v', 23: 'w', 24: 'x', 25: 'y', 26: 'z', 0: '.'}\n",
      "vocab size: 27\n"
     ]
    }
   ],
   "source": [
    "# setup chars, vocab_size and\n",
    "chars = sorted(list(set(''.join(words))))\n",
    "stoi = {s:i+1 for i,s in enumerate(chars)}\n",
    "stoi['.'] = 0\n",
    "\n",
    "itos = {i:s for s,i in stoi.items()}\n",
    "vocab_size = len(itos)\n",
    "print(itos)\n",
    "print(f'vocab size: {vocab_size}')"
   ]
  },
  {
   "cell_type": "code",
   "execution_count": 35,
   "id": "efba4ca9",
   "metadata": {},
   "outputs": [],
   "source": [
    "# is this necessary?\n",
    "\n",
    "import random\n",
    "random.seed(42)\n",
    "random.shuffle(words)"
   ]
  },
  {
   "cell_type": "code",
   "execution_count": 36,
   "id": "3d410650",
   "metadata": {},
   "outputs": [
    {
     "name": "stdout",
     "output_type": "stream",
     "text": [
      "torch.Size([205280, 15]) torch.Size([205280])\n",
      "torch.Size([22866, 15]) torch.Size([22866])\n"
     ]
    }
   ],
   "source": [
    "ctx_len = max_len\n",
    "\n",
    "def build_dataset(words: str):\n",
    "    X, Y = [], []\n",
    "    for w in words:\n",
    "        context = [0] * ctx_len\n",
    "        for ch in w + '.':\n",
    "            ix = stoi[ch]\n",
    "            X.append(context)\n",
    "            Y.append(ix)\n",
    "            context = context[1:] + [ix]\n",
    "    X = torch.tensor(X).to(device)\n",
    "    Y = torch.tensor(Y).to(device)\n",
    "    print(X.shape, Y.shape)\n",
    "    return X, Y\n",
    "\n",
    "n = int(0.9*len(words))\n",
    "Xtr, Ytr = build_dataset(words[:n])\n",
    "Xval, Yval = build_dataset(words[n:])"
   ]
  },
  {
   "cell_type": "code",
   "execution_count": 37,
   "id": "c43957b9",
   "metadata": {},
   "outputs": [
    {
     "name": "stdout",
     "output_type": "stream",
     "text": [
      "tensor([25, 21,  8,  5, 14,  7,  0,  4,  9, 15, 14,  4, 18,  5,  0, 24,  1, 22,\n",
      "         9,  5, 14,  0, 10, 15, 18], device='mps:0')\n",
      "['y', 'u', 'h', 'e', 'n', 'g', '.', 'd', 'i', 'o', 'n', 'd', 'r', 'e', '.', 'x', 'a', 'v', 'i', 'e', 'n', '.', 'j', 'o', 'r']\n"
     ]
    }
   ],
   "source": [
    "print(Ytr[:25])\n",
    "print([itos[ch.item()] for ch in Ytr[:25]])"
   ]
  },
  {
   "cell_type": "code",
   "execution_count": 38,
   "id": "9c505cc9",
   "metadata": {},
   "outputs": [
    {
     "data": {
      "text/plain": [
       "(tensor([ 0,  0,  0,  0,  0,  0,  0,  0,  0,  0, 25, 21,  8,  5, 14],\n",
       "        device='mps:0'),\n",
       " tensor(7, device='mps:0'),\n",
       " tensor([ 0,  0,  0,  0,  0,  0,  0,  0,  0, 25, 21,  8,  5, 14,  7],\n",
       "        device='mps:0'))"
      ]
     },
     "execution_count": 38,
     "metadata": {},
     "output_type": "execute_result"
    }
   ],
   "source": [
    "# predict the next letter given previous n number of letters where n <= 8\n",
    "Xtr[5], Ytr[5], Xtr[6]"
   ]
  },
  {
   "cell_type": "code",
   "execution_count": 48,
   "id": "8a9d91d1",
   "metadata": {},
   "outputs": [],
   "source": [
    "class Linear:\n",
    "    def __init__(self, fet_in: int, fet_out: int, bias: bool=True, device=None):\n",
    "        self.weight = torch.randn((fet_in, fet_out), device=device) / fet_in**0.5 # kaiming init\n",
    "        self.bias = torch.zeros(fet_out, device=device) if bias else None\n",
    "    \n",
    "    def __call__(self, x: torch.Tensor):\n",
    "        self.out = x @ self.weight\n",
    "        if self.bias is not None: self.out += self.bias\n",
    "        return self.out\n",
    "    \n",
    "    def parameters(self):\n",
    "        return [self.weight] + ([] if self.bias is None else [self.bias])\n",
    "\n",
    "class ReLU:\n",
    "    def __call__(self, x: torch.Tensor):\n",
    "        self.out = F.relu(x)\n",
    "        return self.out\n",
    "    \n",
    "    def parameters(self):\n",
    "        return []\n",
    "\n",
    "class BatchNorm1d:\n",
    "    def __init__(self, dim, eps=1e-5, momentum=0.1, device=None):\n",
    "        self.eps = eps\n",
    "        self.momentum = momentum\n",
    "        self.training = True\n",
    "        # params\n",
    "        self.gamma = torch.ones(dim, device=device)\n",
    "        self.beta = torch.zeros(dim, device=device)\n",
    "        # buffs\n",
    "        self.running_mean = torch.zeros(dim, device=device)\n",
    "        self.running_var = torch.ones(dim, device=device)\n",
    "\n",
    "    def __call__(self, x):\n",
    "        if self.training:\n",
    "            xmean = x.mean(0, keepdim=True)\n",
    "            xvar = x.var(0, keepdim=True)\n",
    "        else:\n",
    "            xmean = self.running_mean\n",
    "            xvar = self.running_var\n",
    "        xhat = (x - xmean) / torch.sqrt(xvar + self.eps)\n",
    "        self.out = self.gamma * xhat + self.beta\n",
    "        # update buffs\n",
    "        if self.training:\n",
    "            with torch.no_grad():\n",
    "                self.running_mean = (1 - self.momentum) * self.running_mean + self.momentum * xmean\n",
    "                self.running_var = (1 - self.momentum) * self.running_var + self.momentum * xvar\n",
    "        return self.out\n",
    "\n",
    "    def parameters(self):\n",
    "        return [self.gamma, self.beta]\n",
    "  \n",
    "class Sequential:\n",
    "    def __init__(self, layers: list):\n",
    "        self.layers = layers\n",
    "    \n",
    "    def __call__(self, x):\n",
    "        for layer in self.layers:\n",
    "            x = layer(x)\n",
    "        self.out = x\n",
    "        return self.out\n",
    "    \n",
    "    def parameters(self):\n",
    "        return [p for layer in self.layers for p in layer.parameters()]"
   ]
  },
  {
   "cell_type": "code",
   "execution_count": 53,
   "id": "43502b54",
   "metadata": {},
   "outputs": [
    {
     "data": {
      "text/plain": [
       "np.float64(3.295836866004329)"
      ]
     },
     "execution_count": 53,
     "metadata": {},
     "output_type": "execute_result"
    }
   ],
   "source": [
    "# starting loss should be -ln(1/vocab_size)\n",
    "from numpy import log as nllog\n",
    "-nllog(1/vocab_size)"
   ]
  },
  {
   "cell_type": "code",
   "execution_count": 54,
   "id": "d47a6f79",
   "metadata": {},
   "outputs": [
    {
     "name": "stdout",
     "output_type": "stream",
     "text": [
      "num of params in model: 12459\n"
     ]
    }
   ],
   "source": [
    "n_hidden = 56\n",
    "\n",
    "model = Sequential([\n",
    "    Linear(ctx_len, n_hidden, device=device), BatchNorm1d(n_hidden, device=device), ReLU(),\n",
    "    Linear(n_hidden, n_hidden, device=device), BatchNorm1d(n_hidden, device=device), ReLU(),\n",
    "    Linear(n_hidden, n_hidden, device=device), BatchNorm1d(n_hidden, device=device), ReLU(),\n",
    "    Linear(n_hidden, n_hidden, device=device), BatchNorm1d(n_hidden, device=device), ReLU(),\n",
    "    Linear(n_hidden, vocab_size, device=device),\n",
    "])\n",
    "\n",
    "with torch.no_grad():\n",
    "    model.layers[-1].weight *= 0.1\n",
    "\n",
    "parameters = model.parameters()\n",
    "print(f'num of params in model: {sum(p.nelement() for p in parameters)}')\n",
    "for p in parameters:\n",
    "    p.requires_grad = True"
   ]
  },
  {
   "cell_type": "code",
   "execution_count": 55,
   "id": "0059a4b1",
   "metadata": {},
   "outputs": [
    {
     "name": "stderr",
     "output_type": "stream",
     "text": [
      "  0%|                                        | 14/50000 [00:00<22:38, 36.80it/s]"
     ]
    },
    {
     "name": "stdout",
     "output_type": "stream",
     "text": [
      "0: 3.282554\n"
     ]
    },
    {
     "name": "stderr",
     "output_type": "stream",
     "text": [
      " 20%|███████▏                            | 10024/50000 [01:19<05:23, 123.66it/s]"
     ]
    },
    {
     "name": "stdout",
     "output_type": "stream",
     "text": [
      "10000: 2.447887\n"
     ]
    },
    {
     "name": "stderr",
     "output_type": "stream",
     "text": [
      " 40%|██████████████▍                     | 20019/50000 [02:41<04:14, 117.78it/s]"
     ]
    },
    {
     "name": "stdout",
     "output_type": "stream",
     "text": [
      "20000: 2.239201\n"
     ]
    },
    {
     "name": "stderr",
     "output_type": "stream",
     "text": [
      " 60%|█████████████████████▌              | 30020/50000 [04:03<02:50, 117.46it/s]"
     ]
    },
    {
     "name": "stdout",
     "output_type": "stream",
     "text": [
      "30000: 2.237483\n"
     ]
    },
    {
     "name": "stderr",
     "output_type": "stream",
     "text": [
      " 80%|████████████████████████████▊       | 40020/50000 [05:27<01:20, 123.75it/s]"
     ]
    },
    {
     "name": "stdout",
     "output_type": "stream",
     "text": [
      "40000: 2.303773\n"
     ]
    },
    {
     "name": "stderr",
     "output_type": "stream",
     "text": [
      "100%|████████████████████████████████████| 50000/50000 [06:51<00:00, 121.49it/s]"
     ]
    },
    {
     "name": "stdout",
     "output_type": "stream",
     "text": [
      "time: 411.56100487709045:4f\n"
     ]
    },
    {
     "name": "stderr",
     "output_type": "stream",
     "text": [
      "\n"
     ]
    }
   ],
   "source": [
    "epochs = 50000\n",
    "eval_iter = 10000\n",
    "batch_size = 32\n",
    "start_time = time.time()\n",
    "\n",
    "for i in trange(epochs):\n",
    "    # mini batch\n",
    "    ix = torch.randint(0, Xtr.shape[0], (batch_size,))\n",
    "    Xb, Yb = Xtr[ix].float(), Ytr[ix]\n",
    "    \n",
    "    # forward pass\n",
    "    logits = model(Xb)\n",
    "    loss = F.cross_entropy(logits, Yb)\n",
    "    \n",
    "    # compute gradients\n",
    "    for p in parameters:\n",
    "        p.grad = None\n",
    "    loss.backward()\n",
    "  \n",
    "    # update\n",
    "    lr = 0.1 if i < 20000 else 0.01\n",
    "    for p in parameters:\n",
    "        p.data += -lr * p.grad\n",
    "  \n",
    "    # stats\n",
    "    if i % eval_iter == 0:\n",
    "        print(f'{i}: {loss.item():4f}')\n",
    "\n",
    "end_time = time.time()\n",
    "print(f'time: {end_time - start_time}:4f')"
   ]
  },
  {
   "cell_type": "code",
   "execution_count": 56,
   "id": "85189a41",
   "metadata": {},
   "outputs": [
    {
     "name": "stdout",
     "output_type": "stream",
     "text": [
      "train 2.362396478652954\n",
      "val 2.3741557598114014\n"
     ]
    }
   ],
   "source": [
    "@torch.no_grad()\n",
    "def split_loss(split: str):\n",
    "    x,y = {\n",
    "        'train': (Xtr, Ytr),\n",
    "        'val': (Xval, Yval),\n",
    "    }[split]\n",
    "    logits = model(x.float())\n",
    "    loss = F.cross_entropy(logits, y)\n",
    "    print(split, loss.item())\n",
    "  \n",
    "split_loss('train')\n",
    "split_loss('val')"
   ]
  },
  {
   "cell_type": "code",
   "execution_count": 62,
   "id": "0f0521f5",
   "metadata": {},
   "outputs": [
    {
     "name": "stdout",
     "output_type": "stream",
     "text": [
      "glrvmj.\n",
      "tezacrznktud.\n",
      "nicrxz.\n",
      "xfsqzwmaftkv.\n",
      "pa.\n",
      "dnuekwa.\n",
      "jphyltdrh.\n",
      "znuvczhafwmvtiwwsotibaziauelmurcvruejqgshbahjlak.\n",
      "apnfwio.\n",
      "nkafbtmilyaa.\n",
      "yut.\n",
      "celqbag.\n",
      "asjepu.\n",
      "sv.\n",
      "ypdxajh.\n",
      "gohiekqyhqhnmgvbaozakabgnhr.\n",
      "o.\n",
      "ejbpyhlairinah.\n",
      "mjjlmsoapfli.\n",
      "xuxqeojldcszho.\n"
     ]
    }
   ],
   "source": [
    "for _ in range(20):\n",
    "    out = []\n",
    "    context = [0] * ctx_len\n",
    "    while True:\n",
    "        logits = model(torch.tensor([context], dtype=torch.float, device=device))\n",
    "        probs = F.softmax(logits, dim=1)\n",
    "        ix = torch.multinomial(probs, num_samples=1).item()\n",
    "        context = context[1:] + [ix]\n",
    "        out.append(ix)\n",
    "        if ix == 0:\n",
    "            break\n",
    "    print(''.join(itos[i] for i in out))"
   ]
  },
  {
   "cell_type": "code",
   "execution_count": null,
   "id": "42bcead2",
   "metadata": {},
   "outputs": [],
   "source": []
  }
 ],
 "metadata": {
  "kernelspec": {
   "display_name": "notebook_venv",
   "language": "python",
   "name": "notebook_venv"
  },
  "language_info": {
   "codemirror_mode": {
    "name": "ipython",
    "version": 3
   },
   "file_extension": ".py",
   "mimetype": "text/x-python",
   "name": "python",
   "nbconvert_exporter": "python",
   "pygments_lexer": "ipython3",
   "version": "3.12.4"
  }
 },
 "nbformat": 4,
 "nbformat_minor": 5
}
